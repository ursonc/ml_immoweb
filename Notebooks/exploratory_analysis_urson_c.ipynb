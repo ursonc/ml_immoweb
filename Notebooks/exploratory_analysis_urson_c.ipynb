{
 "cells": [
  {
   "cell_type": "markdown",
   "metadata": {},
   "source": [
    "# # CATEGORICAL DUMMIES"
   ]
  },
  {
   "cell_type": "markdown",
   "metadata": {},
   "source": [
    "df.info()"
   ]
  },
  {
   "cell_type": "code",
   "execution_count": 1,
   "metadata": {},
   "outputs": [
    {
     "ename": "NameError",
     "evalue": "name 'data' is not defined",
     "output_type": "error",
     "traceback": [
      "\u001b[1;31m---------------------------------------------------------------------------\u001b[0m",
      "\u001b[1;31mNameError\u001b[0m                                 Traceback (most recent call last)",
      "Cell \u001b[1;32mIn[1], line 9\u001b[0m\n\u001b[0;32m      6\u001b[0m     \u001b[38;5;28;01mreturn\u001b[39;00m \u001b[38;5;124m'\u001b[39m\u001b[38;5;124mprovince_\u001b[39m\u001b[38;5;124m'\u001b[39m \u001b[38;5;241m+\u001b[39m \u001b[38;5;28mstr\u001b[39m(category)\n\u001b[0;32m      8\u001b[0m \u001b[38;5;66;03m# OneHotEncoder instance without feature_name_combiner parameter\u001b[39;00m\n\u001b[1;32m----> 9\u001b[0m arg \u001b[38;5;241m=\u001b[39m \u001b[43mdata\u001b[49m[\u001b[38;5;124m'\u001b[39m\u001b[38;5;124mprovince\u001b[39m\u001b[38;5;124m'\u001b[39m]\u001b[38;5;241m.\u001b[39mto_numpy()\n\u001b[0;32m     10\u001b[0m onehotprovince \u001b[38;5;241m=\u001b[39m OneHotEncoder(drop\u001b[38;5;241m=\u001b[39m\u001b[38;5;124m'\u001b[39m\u001b[38;5;124mfirst\u001b[39m\u001b[38;5;124m'\u001b[39m, sparse_output\u001b[38;5;241m=\u001b[39m\u001b[38;5;28;01mFalse\u001b[39;00m)\n\u001b[0;32m     12\u001b[0m \u001b[38;5;66;03m# Fit and transform the data\u001b[39;00m\n",
      "\u001b[1;31mNameError\u001b[0m: name 'data' is not defined"
     ]
    }
   ],
   "source": [
    "\n",
    "from sklearn.preprocessing import OneHotEncoder\n",
    "import pandas as pd\n",
    "\n",
    "# Custom combiner function\n",
    "def custom_combiner_province(feature, category):\n",
    "    return 'province_' + str(category)\n",
    "\n",
    "# OneHotEncoder instance without feature_name_combiner parameter\n",
    "arg = data['province'].to_numpy()\n",
    "onehotprovince = OneHotEncoder(drop='first', sparse_output=False)\n",
    "\n",
    "# Fit and transform the data\n",
    "a = onehotprovince.fit_transform(arg.reshape(-1, 1))\n",
    "\n",
    "# Generate custom column names\n",
    "b = [custom_combiner_province('province', category) for category in onehotprovince.categories_[0][1:]]\n",
    "new_data = pd.DataFrame(a, columns=b)\n",
    "\n",
    "# Join new DataFrame with original and drop the 'province' column\n",
    "data = data.join(new_data)\n",
    "data.drop(['province'], axis=1, inplace=True)\n",
    "\n",
    " # Categorical columns\n",
    "cat_col = [col for col in data.columns if data[col].dtype == 'object']\n",
    "print('Categorical columns :',cat_col)\n",
    "# Numerical columns\n",
    "num_col = [col for col in data.columns if data[col].dtype != 'object']\n",
    "print('Numerical columns :',num_col)\n",
    "\n",
    "data[cat_col].nunique()"
   ]
  },
  {
   "cell_type": "code",
   "execution_count": 4,
   "metadata": {},
   "outputs": [
    {
     "name": "stdout",
     "output_type": "stream",
     "text": [
      "Column 'price' has 0.00% missing values\n",
      "Column 'property_type' has 0.00% missing values\n",
      "Column 'subproperty_type' has 0.00% missing values\n",
      "Column 'locality' has 0.00% missing values\n",
      "Column 'zip_code' has 0.00% missing values\n",
      "Column 'latitude' has 18.67% missing values\n",
      "Column 'longitude' has 18.67% missing values\n",
      "Column 'construction_year' has 44.22% missing values\n",
      "Column 'total_area_sqm' has 10.08% missing values\n",
      "Column 'surface_land_sqm' has 48.01% missing values\n",
      "Column 'nbr_frontages' has 34.89% missing values\n",
      "Column 'nbr_bedrooms' has 0.00% missing values\n",
      "Column 'equipped_kitchen' has 0.00% missing values\n",
      "Column 'fl_furnished' has 0.00% missing values\n",
      "Column 'fl_open_fire' has 0.00% missing values\n",
      "Column 'fl_terrace' has 0.00% missing values\n",
      "Column 'terrace_sqm' has 17.40% missing values\n",
      "Column 'fl_garden' has 0.00% missing values\n",
      "Column 'garden_sqm' has 3.89% missing values\n",
      "Column 'fl_swimming_pool' has 0.00% missing values\n",
      "Column 'fl_floodzone' has 0.00% missing values\n",
      "Column 'state_building' has 0.00% missing values\n",
      "Column 'primary_energy_consumption_sqm' has 35.18% missing values\n",
      "Column 'epc' has 0.00% missing values\n",
      "Column 'heating_type' has 0.00% missing values\n",
      "Column 'fl_double_glazing' has 0.00% missing values\n",
      "Column 'cadastral_income' has 59.55% missing values\n",
      "Column 'province_Brussels' has 0.00% missing values\n",
      "Column 'province_East Flanders' has 0.00% missing values\n",
      "Column 'province_Flemish Brabant' has 0.00% missing values\n",
      "Column 'province_Hainaut' has 0.00% missing values\n",
      "Column 'province_Limburg' has 0.00% missing values\n",
      "Column 'province_Liège' has 0.00% missing values\n",
      "Column 'province_Luxembourg' has 0.00% missing values\n",
      "Column 'province_MISSING' has 0.00% missing values\n",
      "Column 'province_Namur' has 0.00% missing values\n",
      "Column 'province_Walloon Brabant' has 0.00% missing values\n",
      "Column 'province_West Flanders' has 0.00% missing values\n",
      "Column 'price' has 0.00% missing values\n",
      "Column 'property_type' has 0.00% missing values\n",
      "Column 'subproperty_type' has 0.00% missing values\n",
      "Column 'province' has 0.00% missing values\n",
      "Column 'locality' has 0.00% missing values\n",
      "Column 'zip_code' has 0.00% missing values\n",
      "Column 'latitude' has 15.47% missing values\n",
      "Column 'longitude' has 15.47% missing values\n",
      "Column 'construction_year' has 43.07% missing values\n",
      "Column 'total_area_sqm' has 6.45% missing values\n",
      "Column 'surface_land_sqm' has 100.00% missing values\n",
      "Column 'nbr_frontages' has 52.88% missing values\n",
      "Column 'nbr_bedrooms' has 0.00% missing values\n",
      "Column 'equipped_kitchen' has 0.00% missing values\n",
      "Column 'fl_furnished' has 0.00% missing values\n",
      "Column 'fl_open_fire' has 0.00% missing values\n",
      "Column 'fl_terrace' has 0.00% missing values\n",
      "Column 'terrace_sqm' has 10.47% missing values\n",
      "Column 'fl_garden' has 0.00% missing values\n",
      "Column 'garden_sqm' has 1.32% missing values\n",
      "Column 'fl_swimming_pool' has 0.00% missing values\n",
      "Column 'fl_floodzone' has 0.00% missing values\n",
      "Column 'state_building' has 0.00% missing values\n",
      "Column 'primary_energy_consumption_sqm' has 44.99% missing values\n",
      "Column 'epc' has 0.00% missing values\n",
      "Column 'heating_type' has 0.00% missing values\n",
      "Column 'fl_double_glazing' has 0.00% missing values\n",
      "Column 'cadastral_income' has 73.99% missing values\n"
     ]
    }
   ],
   "source": [
    "missing_proportion = data.isnull().mean()  # This gives the proportion of missing values for each column\n",
    "\n",
    "# Loop to print out each column with its proportion of missing values\n",
    "for column, proportion in missing_proportion.items():\n",
    "    print(f\"Column '{column}' has {proportion:.2%} missing values\")\n",
    "\n",
    "missing_proportion = apartments_no_outliers.isnull().mean()  #   proportion of missing values for each column\n",
    "\n",
    "# Loop to print out each column with its proportion of missing values\n",
    "for column, proportion in missing_proportion.items():\n",
    "    print(f\"Column '{column}' has {proportion:.2%} missing values\")"
   ]
  },
  {
   "cell_type": "code",
   "execution_count": 6,
   "metadata": {},
   "outputs": [
    {
     "ename": "NameError",
     "evalue": "name 'df' is not defined",
     "output_type": "error",
     "traceback": [
      "\u001b[1;31m---------------------------------------------------------------------------\u001b[0m",
      "\u001b[1;31mNameError\u001b[0m                                 Traceback (most recent call last)",
      "Cell \u001b[1;32mIn[6], line 1\u001b[0m\n\u001b[1;32m----> 1\u001b[0m \u001b[43mdf\u001b[49m\u001b[38;5;241m.\u001b[39mapply(pd\u001b[38;5;241m.\u001b[39mSeries\u001b[38;5;241m.\u001b[39mvalue_counts)\n",
      "\u001b[1;31mNameError\u001b[0m: name 'df' is not defined"
     ]
    }
   ],
   "source": [
    "df.apply(pd.Series.value_counts)"
   ]
  }
 ],
 "metadata": {
  "kernelspec": {
   "display_name": "venv",
   "language": "python",
   "name": "python3"
  },
  "language_info": {
   "codemirror_mode": {
    "name": "ipython",
    "version": 3
   },
   "file_extension": ".py",
   "mimetype": "text/x-python",
   "name": "python",
   "nbconvert_exporter": "python",
   "pygments_lexer": "ipython3",
   "version": "3.12.6"
  }
 },
 "nbformat": 4,
 "nbformat_minor": 4
}
